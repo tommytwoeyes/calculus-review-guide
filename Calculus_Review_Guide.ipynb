{
 "cells": [
  {
   "cell_type": "markdown",
   "metadata": {},
   "source": [
    "# Calculus Review Guide\n",
    "--------------------------------------------------------------------\n",
    "Preparing for Calculus III by reviewing topics from Algebra, Geometry, Trigonometry, Pre-Calculus Algebra, Calculus I, and Calculus II\n"
   ]
  },
  {
   "cell_type": "markdown",
   "metadata": {},
   "source": [
    "### Elementary Functions\n",
    "\n",
    "* **Properties of Functions**\n",
    "    * Definition of *function*\n",
    "    * Definition of *domain*\n",
    "    * Definition of *range*\n",
    "* **Composition of Functions**\n",
    "    * Sum / Difference $f(x) \\pm g(x)$\n",
    "    * Product $f(x)g(x)$\n",
    "    * Quotient $f(x) / g(x)$\n",
    "    * Composite $(f \\circ g)(x)$\n",
    "* **Inverse Functions**\n",
    "    * Functions $f$ and $g$ are mutually inverse if: $f(g(x)) = x$ for each $x$ in the domain of $g$ and,\n",
    "    * $g(f(x)) = x$ for each $x$ in the domain of $f$\n",
    "* **Even & Odd Functions**\n",
    "* **Trigonometric Functions**\n",
    "    * Ensure familiarity with the *definitions,* *domains,* *ranges,* and *graphs* of the trigonometric functions\n",
    "* **Properties of Graphs**\n",
    "    * Intercepts\n",
    "    * Asymptotes\n",
    "    * Symmetry\n",
    "    * Graph *shifts,* *translations,* and *transformations*\n",
    "        * Relationships between $y= f(x)$ and:\n",
    "            * $y = kf(x)$\n",
    "            * $y = f(kx)$\n",
    "            * $y - k = f(x - h)$\n",
    "            * $y = |f(x)|$\n",
    "            * $y = f(|x|)$"
   ]
  },
  {
   "cell_type": "markdown",
   "metadata": {},
   "source": [
    "### Limits\n",
    "\n",
    "* Properties of limits\n",
    "* One-sided limits\n",
    "* Two-sided limits\n",
    "* Limits at infinity\n",
    "* Some non-existent limits\n",
    "    * $\\lim_{x\\to 0} \\frac{1}{x^2}$\n",
    "    * $\\lim_{x \\to 0} \\frac{|x|}{x}$\n",
    "    * $\\lim_{x \\to 0} \\sin\\left( \\frac{1}{x} \\right)$\n",
    "* Some infinite limis\n",
    "    * $\\lim_{x \\to 0^+} \\frac{1}{x^2} = \\infty$\n",
    "    * $\\lim_{x \\to 0^+} \\ln(x) = -\\infty$\n",
    "* **Limits that should be memorized**\n",
    "    * $\\lim_{x \\to 0} \\frac{sin(x)}{x} \\quad = 1$\n",
    "   "
   ]
  },
  {
   "cell_type": "markdown",
   "metadata": {
    "collapsed": true
   },
   "source": [
    "### Continuity\n",
    "* Definition of Continuity"
   ]
  },
  {
   "cell_type": "markdown",
   "metadata": {},
   "source": [
    "### Intermediate Value Theorem\n",
    "\n",
    "* **Intermediate Value Theorem:**<br/>\n",
    "If $f$ is continuous on $[a, b]$ and $k$ is any number between $f(a)$ and $f(b)$, then there is *at least* one number $c$ between $a$ and $b$, such that $f(c) = k$."
   ]
  },
  {
   "cell_type": "markdown",
   "metadata": {},
   "source": [
    "### Differential Calculus\n",
    "\n",
    "##### Definition of the Derivative\n",
    "\n",
    "$$f'(x) = \\lim_{\\Delta x \\to 0} \\frac{f(x + \\Delta x) - f(x)}{\\Delta x}$$\n",
    "\n",
    "* Differentiation Rules\n",
    "* Implicit Differentiation\n",
    "* Higher-Order Derivatives\n",
    "* Derivatives of Inverse Functions\n",
    "* Logarithmic Differentiation\n",
    "* **Related Rates**\n",
    "* Mean Value Theorem\n",
    "* **L'H&ocirc;pital's Rule**\n",
    "* Tangent and Normal Lines\n",
    "* **Extreme Value Theorem**\n",
    "* Curve Sketching\n",
    "* Newton's Method for Approximating Zeros of a Function\n",
    "* Optimization Problems"
   ]
  },
  {
   "cell_type": "markdown",
   "metadata": {},
   "source": [
    "### Integral Calculus\n",
    "\n",
    "* **Indefinite Integrals**<br/>Definition: A function $F(x)$ is the *antiderivative* of a function $f(x)$ if, for all $x$ in the domain of $f$, $F'(x) = f(x)$\n",
    "<br/><br/>\n",
    "$\\int f(x) dx = F(x) + C \\text{, where } C \\text{ is a constant.}$<br/><br/>\n",
    "* Basic integration formulas\n",
    "* Trigonometric integrals\n",
    "* Integration by substitution\n",
    "* Integration by parts\n",
    "* "
   ]
  },
  {
   "cell_type": "markdown",
   "metadata": {},
   "source": [
    "## TODO: continue this - not finished"
   ]
  },
  {
   "cell_type": "code",
   "execution_count": null,
   "metadata": {
    "collapsed": true
   },
   "outputs": [],
   "source": []
  }
 ],
 "metadata": {
  "kernelspec": {
   "display_name": "Python 2",
   "language": "python",
   "name": "python2"
  },
  "language_info": {
   "codemirror_mode": {
    "name": "ipython",
    "version": 2
   },
   "file_extension": ".py",
   "mimetype": "text/x-python",
   "name": "python",
   "nbconvert_exporter": "python",
   "pygments_lexer": "ipython2",
   "version": "2.7.10"
  }
 },
 "nbformat": 4,
 "nbformat_minor": 0
}
