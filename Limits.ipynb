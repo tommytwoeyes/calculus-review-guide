{
 "cells": [
  {
   "cell_type": "markdown",
   "metadata": {},
   "source": [
    "# Limits\n",
    "\n",
    "-------\n",
    "All of calculus is based on the concept of the *Limit.*\n",
    "\n",
    "According to Richard Courant:\n",
    "\n",
    "*\"The fundamental concept on which the whole of mathematical analysis ultimately rests is that of the __limit__ of an infinite sequence $a_n$.\"*\n",
    "\n",
    "--Richard Courant,<br/>&nbsp;&nbsp;&nbsp;*Introduction to Calculus and Analysis I*"
   ]
  },
  {
   "cell_type": "markdown",
   "metadata": {},
   "source": [
    "### What is a limit?\n",
    "\n",
    "* Fundamental basis for all of calculus (and mathematical analysis); Limits are *the foundation* of calculus\n",
    "* **Limits describe the way in which a function varies**\n",
    "* Provide a *precise* way to distinguish between varying types of function behavior; e.g. continuous functions, piecewise functions, functions whose graphs jump around erratically\n",
    "\n",
    "---------"
   ]
  },
  {
   "cell_type": "markdown",
   "metadata": {
    "collapsed": true
   },
   "source": [
    "### Intuitive Description of and Notation for Limits\n",
    "\n",
    "Suppose $f$ is a function and $L$ and $c$ are real numbers:\n",
    "\n",
    "a) **Limit:**<br/>If the values of a function $f(x)$ approach $L$ as $x$ approaches $c$, then it's said that $L$ is the **limit** of $f(x)$ as $x$ approaches $c$ and you write:\n",
    "\n",
    "$$\\lim_{x \\to c} f(x) = L$$\n",
    "<br/>\n",
    "\n",
    "b) **Limit at Infinity:**<br/>If the values of a function $f(x)$ approach $L$ as $x$ grows without bound, then it's said that $L$ is the **limit** of $f(x)$ as $x$ approaches $\\infty$, and you write:\n",
    "$$\\lim_{x \\to \\infty} f(x) = L$$<br/>\n",
    "\n",
    "c) **Infinite Limit:**<br/>\n",
    "If the values of a function $f(x)$ grow without bound as $x$ approaches $c$, then it's said that $\\infty$ is the **limit** of $f(x)$ as $x$ approaches $c$, and you write:\n",
    "$$\\lim_{x \\to c} f(x) = \\infty$$<br/>\n",
    "d) **Infinite Limit at Infinity:**<br/>\n",
    "If the values of a function $f(x)$ grow without bound as $x$ grows without bound, then it's said that $\\infty$ is the **limit** of $f(x)$ as $x$ approaches $\\infty$, and you write:\n",
    "$$\\lim_{x \\to \\infty} f(x) = \\infty$$"
   ]
  },
  {
   "cell_type": "code",
   "execution_count": null,
   "metadata": {
    "collapsed": true
   },
   "outputs": [],
   "source": []
  }
 ],
 "metadata": {
  "kernelspec": {
   "display_name": "Python 2",
   "language": "python",
   "name": "python2"
  },
  "language_info": {
   "codemirror_mode": {
    "name": "ipython",
    "version": 2
   },
   "file_extension": ".py",
   "mimetype": "text/x-python",
   "name": "python",
   "nbconvert_exporter": "python",
   "pygments_lexer": "ipython2",
   "version": "2.7.10"
  }
 },
 "nbformat": 4,
 "nbformat_minor": 0
}
