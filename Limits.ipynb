{
 "cells": [
  {
   "cell_type": "markdown",
   "metadata": {},
   "source": [
    "# Limits\n",
    "\n",
    "-------\n",
    "All of calculus is based on the concept of the *Limit.*"
   ]
  },
  {
   "cell_type": "markdown",
   "metadata": {},
   "source": [
    "### What is a limit?\n",
    "\n",
    "* Fundamental basis for all of calculus; Limits are *the foundation* of calculus\n",
    "* **Limits describe the way in which a function varies**\n",
    "* Provide a *precise* way to distinguish between varying types of function behavior; e.g. continuous functions, piecewise functions, functions whose graphs jump around erratically"
   ]
  },
  {
   "cell_type": "code",
   "execution_count": null,
   "metadata": {
    "collapsed": true
   },
   "outputs": [],
   "source": []
  }
 ],
 "metadata": {
  "kernelspec": {
   "display_name": "Python 2",
   "language": "python",
   "name": "python2"
  },
  "language_info": {
   "codemirror_mode": {
    "name": "ipython",
    "version": 2
   },
   "file_extension": ".py",
   "mimetype": "text/x-python",
   "name": "python",
   "nbconvert_exporter": "python",
   "pygments_lexer": "ipython2",
   "version": "2.7.10"
  }
 },
 "nbformat": 4,
 "nbformat_minor": 0
}
